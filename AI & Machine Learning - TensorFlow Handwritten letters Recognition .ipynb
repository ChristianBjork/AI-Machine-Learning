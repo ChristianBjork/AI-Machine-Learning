{
 "cells": [
  {
   "cell_type": "markdown",
   "metadata": {},
   "source": [
    "# AI - Assignment TensorFlow Image Recognition "
   ]
  },
  {
   "cell_type": "markdown",
   "metadata": {},
   "source": [
    "## Task\n",
    "Create a neural network to recognize an image of handwritten digits. \n",
    "## Data\n",
    "I use The MNIST database of handwritten digits dataset has a training set of 60,000 examples, and a test set of 10,000 examples.\n",
    "\n",
    "The data is found on http://yann.lecun.com/exdb/mnist/"
   ]
  },
  {
   "cell_type": "markdown",
   "metadata": {},
   "source": [
    "## Solution\n",
    "Create a neural network with input layer, three hidden layers, and an output layer.\n",
    "Use __activation function__ to fire neurons.\n",
    "Use __cost function__ to estimate the error.\n",
    "Use __optimizer function__ to minimize the error."
   ]
  },
  {
   "cell_type": "markdown",
   "metadata": {},
   "source": [
    "## Algorithm\n",
    "input layer >> weights >> hidden layer 1 >> activation function >> hidden layer 2 >> activation function >> weights >> output layer\n",
    "compare (output, expected output) with a cost/lost function\n",
    "optimizer -> minimize the error\n",
    "back propagatoion\n",
    "epochs"
   ]
  },
  {
   "cell_type": "markdown",
   "metadata": {},
   "source": [
    "### One-hot Encoding\n",
    "One hot encoding is a process by which categorical variables are converted into a set of binary digits, where\n",
    "the position of '1' determines the category. We will use it for representing the labels.\n",
    "\n",
    "one_hot=True means\n",
    "\n",
    "0 = [1,0,0,0,0,0,0,0,0] <br>\n",
    "1 = [0,1,0,0,0,0,0,0,0] <br>\n",
    "2 = [0,0,1,0,0,0,0,0,0] <br>\n",
    "3 = [0,0,0,1,0,0,0,0,0] <br>\n",
    "..."
   ]
  },
  {
   "cell_type": "markdown",
   "metadata": {},
   "source": [
    "## Code"
   ]
  },
  {
   "cell_type": "code",
   "execution_count": 1,
   "metadata": {},
   "outputs": [],
   "source": [
    "import tensorflow as tf\n",
    "import numpy as np\n",
    "import random as ran\n",
    "import matplotlib.pyplot as plt"
   ]
  },
  {
   "cell_type": "code",
   "execution_count": 2,
   "metadata": {},
   "outputs": [
    {
     "name": "stdout",
     "output_type": "stream",
     "text": [
      "WARNING:tensorflow:From <ipython-input-2-929d51dd8a84>:4: read_data_sets (from tensorflow.contrib.learn.python.learn.datasets.mnist) is deprecated and will be removed in a future version.\n",
      "Instructions for updating:\n",
      "Please use alternatives such as official/mnist/dataset.py from tensorflow/models.\n",
      "WARNING:tensorflow:From C:\\Users\\CBjoe\\Anaconda3\\lib\\site-packages\\tensorflow\\contrib\\learn\\python\\learn\\datasets\\mnist.py:260: maybe_download (from tensorflow.contrib.learn.python.learn.datasets.base) is deprecated and will be removed in a future version.\n",
      "Instructions for updating:\n",
      "Please write your own downloading logic.\n",
      "WARNING:tensorflow:From C:\\Users\\CBjoe\\Anaconda3\\lib\\site-packages\\tensorflow\\contrib\\learn\\python\\learn\\datasets\\mnist.py:262: extract_images (from tensorflow.contrib.learn.python.learn.datasets.mnist) is deprecated and will be removed in a future version.\n",
      "Instructions for updating:\n",
      "Please use tf.data to implement this functionality.\n",
      "Extracting ../data/Handwritten digits/train-images-idx3-ubyte.gz\n",
      "WARNING:tensorflow:From C:\\Users\\CBjoe\\Anaconda3\\lib\\site-packages\\tensorflow\\contrib\\learn\\python\\learn\\datasets\\mnist.py:267: extract_labels (from tensorflow.contrib.learn.python.learn.datasets.mnist) is deprecated and will be removed in a future version.\n",
      "Instructions for updating:\n",
      "Please use tf.data to implement this functionality.\n",
      "Extracting ../data/Handwritten digits/train-labels-idx1-ubyte.gz\n",
      "WARNING:tensorflow:From C:\\Users\\CBjoe\\Anaconda3\\lib\\site-packages\\tensorflow\\contrib\\learn\\python\\learn\\datasets\\mnist.py:110: dense_to_one_hot (from tensorflow.contrib.learn.python.learn.datasets.mnist) is deprecated and will be removed in a future version.\n",
      "Instructions for updating:\n",
      "Please use tf.one_hot on tensors.\n",
      "Extracting ../data/Handwritten digits/t10k-images-idx3-ubyte.gz\n",
      "Extracting ../data/Handwritten digits/t10k-labels-idx1-ubyte.gz\n",
      "WARNING:tensorflow:From C:\\Users\\CBjoe\\Anaconda3\\lib\\site-packages\\tensorflow\\contrib\\learn\\python\\learn\\datasets\\mnist.py:290: DataSet.__init__ (from tensorflow.contrib.learn.python.learn.datasets.mnist) is deprecated and will be removed in a future version.\n",
      "Instructions for updating:\n",
      "Please use alternatives such as official/mnist/dataset.py from tensorflow/models.\n"
     ]
    }
   ],
   "source": [
    "# Get the input data from tensorflow.examples.tutorials.mnist import\n",
    "# 28x28 images of hand-written digits 0-9\n",
    "from tensorflow.examples.tutorials.mnist import input_data\n",
    "data = input_data.read_data_sets(\"../data/Handwritten digits/\", one_hot=True)\n",
    "# one-hot used for the labels\n"
   ]
  },
  {
   "cell_type": "code",
   "execution_count": 3,
   "metadata": {},
   "outputs": [
    {
     "name": "stdout",
     "output_type": "stream",
     "text": [
      "55000\n"
     ]
    }
   ],
   "source": [
    "# Number of samples\n",
    "n = data.train.num_examples\n",
    "print(n)"
   ]
  },
  {
   "cell_type": "code",
   "execution_count": 4,
   "metadata": {},
   "outputs": [
    {
     "name": "stdout",
     "output_type": "stream",
     "text": [
      "Images data:  (55000, 784)\n",
      "x_train data: (55000, 784)\n",
      "y_train data: (55000, 10)\n"
     ]
    }
   ],
   "source": [
    "# Training set\n",
    "def train_set(n):\n",
    "    print ('Images data:  ' + str(data.train.images.shape))\n",
    "    x_train = data.train.images[:n,:]\n",
    "    print ('x_train data: ' + str(x_train.shape))\n",
    "    y_train = data.train.labels[:n,:]\n",
    "    print ('y_train data: ' + str(y_train.shape))\n",
    "    return x_train, y_train\n",
    "\n",
    "x_train, y_train = train_set(n)"
   ]
  },
  {
   "cell_type": "code",
   "execution_count": 5,
   "metadata": {},
   "outputs": [
    {
     "name": "stdout",
     "output_type": "stream",
     "text": [
      "Images data: (10000, 784)\n",
      "x_test data: (10000, 784)\n",
      "y_test data: (10000, 10)\n"
     ]
    }
   ],
   "source": [
    "# Test set\n",
    "def test_set(n):\n",
    "    print ('Images data: ' + str(data.test.images.shape))\n",
    "    x_test = data.test.images[:n,:]\n",
    "    print ('x_test data: ' + str(x_test.shape))\n",
    "    y_test = data.test.labels[:n,:]\n",
    "    print ('y_test data: ' + str(y_test.shape))\n",
    "    return x_test, y_test\n",
    "\n",
    "x_test, y_test = test_set(n)"
   ]
  },
  {
   "cell_type": "code",
   "execution_count": 6,
   "metadata": {},
   "outputs": [],
   "source": [
    "# Test plot to see an image\n",
    "def display_image(num):\n",
    "    print(y_train[num])\n",
    "    label = y_train[num].argmax(axis=0)\n",
    "    image = x_train[num].reshape([28,28])\n",
    "    plt.title('Example: %d  Label: %d' % (num, label))\n",
    "    plt.imshow(image, cmap=plt.get_cmap('gray_r'))\n",
    "    plt.grid()\n",
    "    plt.show()"
   ]
  },
  {
   "cell_type": "code",
   "execution_count": 7,
   "metadata": {},
   "outputs": [
    {
     "name": "stdout",
     "output_type": "stream",
     "text": [
      "[0. 0. 0. 0. 0. 0. 1. 0. 0. 0.]\n"
     ]
    },
    {
     "data": {
      "image/png": "[encoded data removed]",
      "text/plain": [
       "<Figure size 432x288 with 1 Axes>"
      ]
     },
     "metadata": {
      "needs_background": "light"
     },
     "output_type": "display_data"
    }
   ],
   "source": [
    "# Try it\n",
    "display_image(98)"
   ]
  },
  {
   "cell_type": "markdown",
   "metadata": {},
   "source": [
    "### Define the model"
   ]
  },
  {
   "cell_type": "code",
   "execution_count": 8,
   "metadata": {},
   "outputs": [],
   "source": [
    "# As the data is too much for one training, split in mini-batches (partitions)\n",
    "batch_size = 100\n",
    "\n",
    "# Number of batches\n",
    "m = int(n/batch_size)"
   ]
  },
  {
   "cell_type": "markdown",
   "metadata": {},
   "source": [
    "### Network Topology"
   ]
  },
  {
   "cell_type": "code",
   "execution_count": 9,
   "metadata": {},
   "outputs": [],
   "source": [
    "# Three hidden layers\n",
    "# Number of nodes in each hidden layer\n",
    "nodes_hl1 = 500\n",
    "nodes_hl2 = 500\n",
    "nodes_hl3 = 500"
   ]
  },
  {
   "cell_type": "code",
   "execution_count": 10,
   "metadata": {},
   "outputs": [],
   "source": [
    "# Number of classes in output layer\n",
    "classes = 10\n",
    "\n",
    "# Number of epochs\n",
    "epochs = 15\n",
    "\n",
    "# Learning rate\n",
    "lr = 0.001"
   ]
  },
  {
   "cell_type": "markdown",
   "metadata": {},
   "source": [
    "### Tensors"
   ]
  },
  {
   "cell_type": "code",
   "execution_count": 11,
   "metadata": {},
   "outputs": [],
   "source": [
    "# Array placeholders for input and output data\n",
    "# needed, as we do not know the size of one mini-batch, it will be determined automatically\n",
    "# Using small batches of random data is called stochastic training \n",
    "# we do it, as using the whole data set at once is expensive\n",
    "x = tf.placeholder('float', [None, 784])\n",
    "y = tf.placeholder('float', [None, 10])"
   ]
  },
  {
   "cell_type": "markdown",
   "metadata": {},
   "source": [
    "### TF Computation Graph"
   ]
  },
  {
   "cell_type": "code",
   "execution_count": 12,
   "metadata": {},
   "outputs": [],
   "source": [
    "def build_graph(x):\n",
    "    # Assign random values to weights and biases at each hidden layer, as well as at the output layer\n",
    "    # first hidden layer\n",
    "    hl1 = {'w':tf.Variable(tf.random_normal([784, nodes_hl1])),\n",
    "           'b':tf.Variable(tf.random_normal([nodes_hl1]))}\n",
    "    # second hidden layer\n",
    "    hl2 = {'w':tf.Variable(tf.random_normal([nodes_hl1, nodes_hl2])),\n",
    "           'b':tf.Variable(tf.random_normal([nodes_hl2]))}\n",
    "    # third hidden layer\n",
    "    hl3 = {'w':tf.Variable(tf.random_normal([nodes_hl2, nodes_hl3])),\n",
    "           'b':tf.Variable(tf.random_normal([nodes_hl3]))}\n",
    "    # output \n",
    "    out = {'w':tf.Variable(tf.random_normal([nodes_hl3, classes])),\n",
    "           'b':tf.Variable(tf.random_normal([classes]))}\n",
    "\n",
    "    # Start feed forward\n",
    "    # y = {X} * {W} + b\n",
    "    # tf.matmul() - a function for multiplication of matrices\n",
    "    # relu - the activation function for a node (see the graph below)\n",
    "    # softmax() - alternative activation function, applied to the output nodes\n",
    "    l1 = tf.matmul(x,hl1['w'])\n",
    "    l1 = tf.add(l1, hl1['b'])\n",
    "    l1 = tf.nn.relu(l1)\n",
    "\n",
    "    l2 = tf.matmul(l1,hl2['w'])\n",
    "    l2 = tf.add(l2, hl2['b'])\n",
    "    l2 = tf.nn.relu(l2)\n",
    "\n",
    "    l3 = tf.add(tf.matmul(l2,hl3['w']), hl3['b'])\n",
    "    l3 = tf.nn.relu(l3)\n",
    "\n",
    "    output = tf.matmul(l3,out['w']) + out['b']\n",
    "\n",
    "    return output"
   ]
  },
  {
   "attachments": {
    "image.png": {
     "image/png": "[encoded data removed]"
    }
   },
   "cell_type": "markdown",
   "metadata": {
    "collapsed": true
   },
   "source": [
    "![image.png](attachment:image.png)\n"
   ]
  },
  {
   "cell_type": "markdown",
   "metadata": {},
   "source": [
    "                                                Activation Function"
   ]
  },
  {
   "cell_type": "code",
   "execution_count": 13,
   "metadata": {},
   "outputs": [],
   "source": [
    "# Validation function - will be used during the training\n",
    "def validate(predicted, expected):\n",
    "    correct = tf.equal(tf.argmax(predicted, 1), tf.argmax(expected, 1))\n",
    "    print(correct)\n",
    "    accuracy = tf.reduce_mean(tf.cast(correct, 'float'))\n",
    "    print('Accuracy:',accuracy.eval({x:data.test.images, y:data.test.labels}))   "
   ]
  },
  {
   "cell_type": "markdown",
   "metadata": {},
   "source": [
    "### Training Session"
   ]
  },
  {
   "cell_type": "code",
   "execution_count": 14,
   "metadata": {},
   "outputs": [],
   "source": [
    "# Training process set up will run in a TensorFlow Session\n",
    "def train(x):\n",
    "    print(x)\n",
    "    # Start iteration of prediction using the computation graph above\n",
    "    prediction = build_graph(x)\n",
    "    \n",
    "    # estimate the error/cost/loss \n",
    "    # based on the probability that the classes are mutually exclusive, so labels are informative\n",
    "    \n",
    "    # cost has the value we try to minimize by manipulating the weights\n",
    "    cost = tf.reduce_mean(tf.nn.softmax_cross_entropy_with_logits_v2(logits=prediction, labels=y) )\n",
    "    \n",
    "    # minimise the cost by optimization function\n",
    "    optimizer = tf.train.AdamOptimizer().minimize(cost)\n",
    "    \n",
    "    # Create session    \n",
    "    with tf.Session() as sess:\n",
    "        # initialize the variables we created\n",
    "        sess.run(tf.global_variables_initializer())   \n",
    "        \n",
    "        # start iterations for each epoch\n",
    "        for epoch in range(epochs):\n",
    "            epoch_loss = 0\n",
    "            # same for each batch (partition of our data)\n",
    "            for _ in range(m):\n",
    "                # get the next batch of random data of size n\n",
    "                epoch_x, epoch_y = data.train.next_batch(batch_size)\n",
    "                # feeding the placeholders for x and y\n",
    "                _, c = sess.run([optimizer, cost], feed_dict={x: epoch_x, y: epoch_y})\n",
    "                epoch_loss += c\n",
    "\n",
    "            print('Epoch ', epoch, ' out of ', epochs,'completed,  loss:', epoch_loss)\n",
    "            # print('y', epoch_y)\n",
    "            \n",
    "        #Validate the accuracy\n",
    "        validate(prediction, y)\n",
    "          "
   ]
  },
  {
   "cell_type": "code",
   "execution_count": 15,
   "metadata": {},
   "outputs": [
    {
     "name": "stdout",
     "output_type": "stream",
     "text": [
      "Tensor(\"Placeholder:0\", shape=(?, 784), dtype=float32)\n",
      "WARNING:tensorflow:From C:\\Users\\CBjoe\\Anaconda3\\lib\\site-packages\\tensorflow\\python\\framework\\op_def_library.py:263: colocate_with (from tensorflow.python.framework.ops) is deprecated and will be removed in a future version.\n",
      "Instructions for updating:\n",
      "Colocations handled automatically by placer.\n",
      "Epoch  0  out of  15 completed,  loss: 1503430.8411254883\n",
      "Epoch  1  out of  15 completed,  loss: 366757.57840156555\n",
      "Epoch  2  out of  15 completed,  loss: 200184.84847056866\n",
      "Epoch  3  out of  15 completed,  loss: 112513.9925378561\n",
      "Epoch  4  out of  15 completed,  loss: 67311.8980807066\n",
      "Epoch  5  out of  15 completed,  loss: 41063.01809600601\n",
      "Epoch  6  out of  15 completed,  loss: 27962.117005163134\n",
      "Epoch  7  out of  15 completed,  loss: 23644.606251975754\n",
      "Epoch  8  out of  15 completed,  loss: 19563.970001476406\n",
      "Epoch  9  out of  15 completed,  loss: 18176.617964684494\n",
      "Epoch  10  out of  15 completed,  loss: 16282.734410718083\n",
      "Epoch  11  out of  15 completed,  loss: 13786.81529321149\n",
      "Epoch  12  out of  15 completed,  loss: 9947.098419036567\n",
      "Epoch  13  out of  15 completed,  loss: 11984.316901244485\n",
      "Epoch  14  out of  15 completed,  loss: 15218.078136625054\n",
      "Tensor(\"Equal:0\", shape=(?,), dtype=bool)\n",
      "Accuracy: 0.9595\n"
     ]
    }
   ],
   "source": [
    "# Run \n",
    "train(x)"
   ]
  },
  {
   "cell_type": "markdown",
   "metadata": {},
   "source": [
    "### Testing"
   ]
  },
  {
   "cell_type": "code",
   "execution_count": 23,
   "metadata": {},
   "outputs": [],
   "source": [
    "# Try a random image from the database\n",
    "K = ran.randint(0, 9999) \n",
    "\n",
    "# Load one of the training examples - K\n",
    "x_test = data.test.images[K,:].reshape(1,784)\n",
    "y_test = data.test.labels[K,:].reshape(1, 10)"
   ]
  },
  {
   "cell_type": "code",
   "execution_count": 24,
   "metadata": {},
   "outputs": [
    {
     "name": "stdout",
     "output_type": "stream",
     "text": [
      "[[0. 0. 0. 0. 0. 1. 0. 0. 0. 0.]]\n"
     ]
    }
   ],
   "source": [
    "print(y_test)"
   ]
  },
  {
   "cell_type": "code",
   "execution_count": 27,
   "metadata": {},
   "outputs": [
    {
     "data": {
      "image/png": "[encoded data removed]",
      "text/plain": [
       "<Figure size 432x288 with 1 Axes>"
      ]
     },
     "metadata": {
      "needs_background": "light"
     },
     "output_type": "display_data"
    }
   ],
   "source": [
    "# Plot image K\n",
    "img = data.test.images[K]\n",
    "plt.imshow(img.reshape(28, 28), cmap=plt.cm.binary)\n",
    "plt.show()"
   ]
  },
  {
   "cell_type": "code",
   "execution_count": 28,
   "metadata": {},
   "outputs": [
    {
     "data": {
      "text/plain": [
       "(784,)"
      ]
     },
     "execution_count": 28,
     "metadata": {},
     "output_type": "execute_result"
    }
   ],
   "source": [
    "data.test.images[K,:].shape"
   ]
  },
  {
   "cell_type": "code",
   "execution_count": 29,
   "metadata": {},
   "outputs": [
    {
     "name": "stdout",
     "output_type": "stream",
     "text": [
      "[0.        0.        0.        0.        0.        0.        0.\n",
      " 0.        0.        0.        0.        0.        0.        0.\n",
      " 0.        0.        0.        0.        0.        0.        0.\n",
      " 0.        0.        0.        0.        0.        0.        0.\n",
      " 0.        0.        0.        0.        0.        0.        0.\n",
      " 0.        0.        0.        0.        0.        0.        0.\n",
      " 0.        0.        0.        0.        0.        0.        0.\n",
      " 0.        0.        0.        0.        0.        0.        0.\n",
      " 0.        0.        0.        0.        0.        0.        0.\n",
      " 0.        0.        0.        0.        0.        0.        0.\n",
      " 0.        0.        0.        0.        0.        0.        0.\n",
      " 0.        0.        0.        0.        0.        0.        0.\n",
      " 0.        0.        0.        0.        0.        0.        0.\n",
      " 0.        0.        0.        0.        0.        0.        0.\n",
      " 0.        0.        0.        0.        0.        0.        0.\n",
      " 0.        0.        0.        0.        0.        0.        0.\n",
      " 0.        0.        0.        0.        0.        0.        0.\n",
      " 0.        0.        0.        0.        0.        0.        0.\n",
      " 0.        0.        0.        0.        0.        0.        0.\n",
      " 0.        0.        0.        0.        0.        0.        0.\n",
      " 0.        0.        0.        0.        0.        0.        0.\n",
      " 0.        0.        0.        0.        0.        0.        0.\n",
      " 0.        0.        0.        0.        0.2509804 0.5019608 0.5019608\n",
      " 0.2509804 0.        0.        0.        0.        0.        0.\n",
      " 0.        0.        0.        0.        0.        0.        0.\n",
      " 0.        0.        0.        0.        0.        0.        0.\n",
      " 0.5019608 0.5019608 1.        1.        1.        1.        1.\n",
      " 1.        1.        1.        1.        0.        0.        0.\n",
      " 0.        0.        0.        0.        0.        0.        0.\n",
      " 0.        0.        0.        0.2509804 0.7490196 1.        1.\n",
      " 1.        1.        1.        1.        1.        1.        1.\n",
      " 1.        1.        1.        0.5019608 0.        0.        0.\n",
      " 0.        0.        0.        0.        0.        0.        0.\n",
      " 0.        0.        0.7490196 1.        1.        1.        1.\n",
      " 1.        1.        1.        1.        1.        1.        1.\n",
      " 1.        1.        0.2509804 0.        0.        0.        0.\n",
      " 0.        0.        0.        0.        0.        0.        0.\n",
      " 0.        0.2509804 1.        1.        1.        1.        1.\n",
      " 1.        1.        1.        0.7490196 0.5019608 0.5019608 0.5019608\n",
      " 0.        0.        0.        0.        0.        0.        0.\n",
      " 0.        0.        0.        0.        0.        0.        0.\n",
      " 0.        0.7490196 1.        1.        1.        1.        1.\n",
      " 1.        0.5019608 0.2509804 0.        0.        0.        0.\n",
      " 0.        0.        0.        0.        0.        0.        0.\n",
      " 0.        0.        0.        0.        0.        0.        0.\n",
      " 0.        1.        1.        1.        1.        1.        0.7490196\n",
      " 0.        0.        0.        0.        0.        0.        0.\n",
      " 0.        0.        0.        0.        0.        0.        0.\n",
      " 0.        0.        0.        0.        0.        0.        0.\n",
      " 0.        0.7490196 1.        1.        1.        1.        0.5019608\n",
      " 0.        0.        0.        0.        0.        0.        0.\n",
      " 0.        0.        0.        0.        0.        0.        0.\n",
      " 0.        0.        0.        0.        0.        0.        0.\n",
      " 0.        0.        0.7490196 1.        1.        1.        1.\n",
      " 1.        0.2509804 0.        0.        0.        0.        0.\n",
      " 0.        0.        0.        0.        0.        0.        0.\n",
      " 0.        0.        0.        0.        0.        0.        0.\n",
      " 0.        0.        0.        0.7490196 1.        1.        1.\n",
      " 1.        1.        0.2509804 0.        0.        0.        0.\n",
      " 0.        0.        0.        0.        0.        0.        0.\n",
      " 0.        0.        0.        0.        0.        0.        0.\n",
      " 0.        0.        0.        0.        0.2509804 0.7490196 1.\n",
      " 1.        1.        1.        0.7490196 0.2509804 0.        0.\n",
      " 0.        0.        0.        0.        0.        0.        0.\n",
      " 0.        0.        0.        0.        0.        0.        0.\n",
      " 0.        0.        0.        0.        0.        0.        0.5019608\n",
      " 1.        1.        1.        1.        0.7490196 0.        0.\n",
      " 0.        0.        0.        0.        0.        0.        0.\n",
      " 0.        0.        0.        0.        0.        0.        0.\n",
      " 0.        0.        0.        0.        0.        0.        0.\n",
      " 0.5019608 1.        1.        1.        1.        0.7490196 0.\n",
      " 0.        0.        0.        0.        0.        0.        0.\n",
      " 0.        0.        0.        0.        0.        0.        0.\n",
      " 0.        0.        0.2509804 0.5019608 0.7490196 1.        1.\n",
      " 1.        1.        1.        1.        1.        1.        0.\n",
      " 0.        0.        0.        0.        0.        0.        0.\n",
      " 0.        0.        0.        0.        0.        0.        0.2509804\n",
      " 1.        1.        1.        1.        1.        1.        1.\n",
      " 1.        1.        1.        1.        1.        0.7490196 0.\n",
      " 0.        0.        0.        0.        0.        0.        0.\n",
      " 0.        0.        0.        0.        0.        0.        1.\n",
      " 1.        1.        1.        1.        1.        1.        1.\n",
      " 1.        1.        1.        1.        1.        0.2509804 0.\n",
      " 0.        0.        0.        0.        0.        0.        0.\n",
      " 0.        0.        0.        0.        0.        0.7490196 1.\n",
      " 1.        1.        1.        1.        1.        1.        1.\n",
      " 1.        1.        1.        1.        0.2509804 0.        0.\n",
      " 0.        0.        0.        0.        0.        0.        0.\n",
      " 0.        0.        0.        0.        0.        0.        0.7490196\n",
      " 1.        1.        1.        1.        1.        1.        1.\n",
      " 1.        1.        1.        0.5019608 0.        0.        0.\n",
      " 0.        0.        0.        0.        0.        0.        0.\n",
      " 0.        0.        0.        0.        0.        0.        0.5019608\n",
      " 0.5019608 0.5019608 1.        1.        1.        1.        1.\n",
      " 0.5019608 0.        0.        0.        0.        0.        0.\n",
      " 0.        0.        0.        0.        0.        0.        0.\n",
      " 0.        0.        0.        0.        0.        0.        0.\n",
      " 0.        0.        0.        0.        0.        0.        0.\n",
      " 0.        0.        0.        0.        0.        0.        0.\n",
      " 0.        0.        0.        0.        0.        0.        0.\n",
      " 0.        0.        0.        0.        0.        0.        0.\n",
      " 0.        0.        0.        0.        0.        0.        0.\n",
      " 0.        0.        0.        0.        0.        0.        0.\n",
      " 0.        0.        0.        0.        0.        0.        0.\n",
      " 0.        0.        0.        0.        0.        0.        0.\n",
      " 0.        0.        0.        0.        0.        0.        0.\n",
      " 0.        0.        0.        0.        0.        0.        0.\n",
      " 0.        0.        0.        0.        0.        0.        0.\n",
      " 0.        0.        0.        0.        0.        0.        0.\n",
      " 0.        0.        0.        0.        0.        0.        0.\n",
      " 0.        0.        0.        0.        0.        0.        0.\n",
      " 0.        0.        0.        0.        0.        0.        0.       ]\n"
     ]
    }
   ],
   "source": [
    "print(data.test.images[K,:])"
   ]
  },
  {
   "cell_type": "markdown",
   "metadata": {},
   "source": [
    "### Validation"
   ]
  },
  {
   "cell_type": "code",
   "execution_count": 30,
   "metadata": {},
   "outputs": [
    {
     "name": "stdout",
     "output_type": "stream",
     "text": [
      "[[0. 0. 0. 0. 0. 1. 0. 0. 0. 0.]]\n",
      "Neural Network predicted 5\n",
      "Real label is: 5\n"
     ]
    }
   ],
   "source": [
    "sess = tf.Session()\n",
    "prediction = sess.run(tf.argmax(y_test, 1), feed_dict={x: [img]})\n",
    "print(y_test)\n",
    "print('Neural Network predicted', prediction[0])\n",
    "print('Real label is:', np.argmax(data.test.labels[K]))"
   ]
  }
 ],
 "metadata": {
  "kernelspec": {
   "display_name": "Python 3",
   "language": "python",
   "name": "python3"
  },
  "language_info": {
   "codemirror_mode": {
    "name": "ipython",
    "version": 3
   },
   "file_extension": ".py",
   "mimetype": "text/x-python",
   "name": "python",
   "nbconvert_exporter": "python",
   "pygments_lexer": "ipython3",
   "version": "3.7.1"
  }
 },
 "nbformat": 4,
 "nbformat_minor": 2
}
